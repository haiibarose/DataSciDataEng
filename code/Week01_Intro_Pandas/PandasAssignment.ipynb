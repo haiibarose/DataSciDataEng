{
  "cells": [
    {
      "cell_type": "markdown",
      "metadata": {
        "id": "view-in-github",
        "colab_type": "text"
      },
      "source": [
        "<a href=\"https://colab.research.google.com/github/haiibarose/DataSciDataEng/blob/main/code/Week01_Intro_Pandas/PandasAssignment.ipynb\" target=\"_parent\"><img src=\"https://colab.research.google.com/assets/colab-badge.svg\" alt=\"Open In Colab\"/></a>"
      ]
    },
    {
      "cell_type": "markdown",
      "metadata": {
        "id": "OIom1X-v0TGc"
      },
      "source": [
        "# Assignment - Basic Pandas\n",
        "<sup>Created by Natawut Nupairoj, Department of Computer Engineering, Chulalongkorn University</sup>\n",
        "\n",
        "Using pandas to explore youtube trending data from GB (GBvideos.csv and GB_category_id.json) and answer the questions."
      ]
    },
    {
      "cell_type": "code",
      "execution_count": 362,
      "metadata": {
        "id": "_ooeQeBn0TGf"
      },
      "outputs": [],
      "source": [
        "import pandas as pd\n",
        "import numpy as np"
      ]
    },
    {
      "cell_type": "markdown",
      "metadata": {
        "id": "RNyAGpWT0TGh"
      },
      "source": [
        "To simplify data retrieval process on Colab, we heck if we are in the Colab environment and download data files from a shared drive and save them in folder \"data\".\n",
        "\n",
        "For those using jupyter notebook on the local computer, you can read data directly assuming you save data in the folder \"data\"."
      ]
    },
    {
      "cell_type": "code",
      "execution_count": 363,
      "metadata": {
        "colab": {
          "base_uri": "https://localhost:8080/"
        },
        "id": "qro_9JWV0TGi",
        "outputId": "af8d7a38-3c41-431d-ce56-299662156ea9"
      },
      "outputs": [
        {
          "output_type": "stream",
          "name": "stdout",
          "text": [
            "--2024-01-14 17:06:04--  https://github.com/kaopanboonyuen/2110446_DataScience_2021s2/raw/main/datasets/data.tgz\n",
            "Resolving github.com (github.com)... 140.82.113.3\n",
            "Connecting to github.com (github.com)|140.82.113.3|:443... connected.\n",
            "HTTP request sent, awaiting response... 302 Found\n",
            "Location: https://raw.githubusercontent.com/kaopanboonyuen/2110446_DataScience_2021s2/main/datasets/data.tgz [following]\n",
            "--2024-01-14 17:06:04--  https://raw.githubusercontent.com/kaopanboonyuen/2110446_DataScience_2021s2/main/datasets/data.tgz\n",
            "Resolving raw.githubusercontent.com (raw.githubusercontent.com)... 185.199.109.133, 185.199.110.133, 185.199.111.133, ...\n",
            "Connecting to raw.githubusercontent.com (raw.githubusercontent.com)|185.199.109.133|:443... connected.\n",
            "HTTP request sent, awaiting response... 200 OK\n",
            "Length: 45477462 (43M) [application/octet-stream]\n",
            "Saving to: ‘data.tgz’\n",
            "\n",
            "data.tgz            100%[===================>]  43.37M   195MB/s    in 0.2s    \n",
            "\n",
            "2024-01-14 17:06:05 (195 MB/s) - ‘data.tgz’ saved [45477462/45477462]\n",
            "\n",
            "data/\n",
            "data/._GB_category_id.json\n",
            "data/GB_category_id.json\n",
            "data/._US_category_id.json\n",
            "data/US_category_id.json\n",
            "data/._USvideos.csv\n",
            "data/USvideos.csv\n",
            "data/._GBvideos.csv\n",
            "data/GBvideos.csv\n"
          ]
        }
      ],
      "source": [
        "import sys\n",
        "IN_COLAB = 'google.colab' in sys.modules\n",
        "if IN_COLAB:\n",
        "    !wget https://github.com/kaopanboonyuen/2110446_DataScience_2021s2/raw/main/datasets/data.tgz -O data.tgz\n",
        "    !tar -xzvf data.tgz"
      ]
    },
    {
      "cell_type": "code",
      "execution_count": 364,
      "metadata": {
        "id": "PFzYyW7V0TGj"
      },
      "outputs": [],
      "source": [
        "GBvideos = pd.read_csv('/content/data/GBvideos.csv')\n",
        "GBvideos_clean = GBvideos.copy()\n",
        "\n",
        "GBcategory = pd.read_json('/content/data/GB_category_id.json')"
      ]
    },
    {
      "cell_type": "markdown",
      "metadata": {
        "id": "rkNi2LHT0TGj"
      },
      "source": [
        "## How many rows are there in the GBvideos.csv after removing duplications?"
      ]
    },
    {
      "cell_type": "code",
      "source": [
        "GBvideos_clean.info()                             # Before removing duplicates, GBvideos contains 38916 entries 16 columns"
      ],
      "metadata": {
        "id": "baFkTB1xa-0c",
        "outputId": "8fd8be80-df8b-46e5-c713-a4793be35d15",
        "colab": {
          "base_uri": "https://localhost:8080/"
        }
      },
      "execution_count": 365,
      "outputs": [
        {
          "output_type": "stream",
          "name": "stdout",
          "text": [
            "<class 'pandas.core.frame.DataFrame'>\n",
            "RangeIndex: 38916 entries, 0 to 38915\n",
            "Data columns (total 16 columns):\n",
            " #   Column                  Non-Null Count  Dtype \n",
            "---  ------                  --------------  ----- \n",
            " 0   video_id                38916 non-null  object\n",
            " 1   trending_date           38916 non-null  object\n",
            " 2   title                   38916 non-null  object\n",
            " 3   channel_title           38916 non-null  object\n",
            " 4   category_id             38916 non-null  int64 \n",
            " 5   publish_time            38916 non-null  object\n",
            " 6   tags                    38916 non-null  object\n",
            " 7   views                   38916 non-null  int64 \n",
            " 8   likes                   38916 non-null  int64 \n",
            " 9   dislikes                38916 non-null  int64 \n",
            " 10  comment_count           38916 non-null  int64 \n",
            " 11  thumbnail_link          38916 non-null  object\n",
            " 12  comments_disabled       38916 non-null  bool  \n",
            " 13  ratings_disabled        38916 non-null  bool  \n",
            " 14  video_error_or_removed  38916 non-null  bool  \n",
            " 15  description             38304 non-null  object\n",
            "dtypes: bool(3), int64(5), object(8)\n",
            "memory usage: 4.0+ MB\n"
          ]
        }
      ]
    },
    {
      "cell_type": "code",
      "source": [
        "GBvideos_clean.drop_duplicates(inplace=True)\n",
        "GBvideos_clean.reset_index(inplace=True, drop=True)\n",
        "GBvideos_clean.info()                             # After removing duplicates, GBvideos contains 38745 entries 16 columns (removed 171 rows)"
      ],
      "metadata": {
        "id": "MgLIy5LraDx2",
        "outputId": "e5f66cc7-b55c-4c5d-f84f-e70ff1a687c7",
        "colab": {
          "base_uri": "https://localhost:8080/"
        }
      },
      "execution_count": 366,
      "outputs": [
        {
          "output_type": "stream",
          "name": "stdout",
          "text": [
            "<class 'pandas.core.frame.DataFrame'>\n",
            "RangeIndex: 38745 entries, 0 to 38744\n",
            "Data columns (total 16 columns):\n",
            " #   Column                  Non-Null Count  Dtype \n",
            "---  ------                  --------------  ----- \n",
            " 0   video_id                38745 non-null  object\n",
            " 1   trending_date           38745 non-null  object\n",
            " 2   title                   38745 non-null  object\n",
            " 3   channel_title           38745 non-null  object\n",
            " 4   category_id             38745 non-null  int64 \n",
            " 5   publish_time            38745 non-null  object\n",
            " 6   tags                    38745 non-null  object\n",
            " 7   views                   38745 non-null  int64 \n",
            " 8   likes                   38745 non-null  int64 \n",
            " 9   dislikes                38745 non-null  int64 \n",
            " 10  comment_count           38745 non-null  int64 \n",
            " 11  thumbnail_link          38745 non-null  object\n",
            " 12  comments_disabled       38745 non-null  bool  \n",
            " 13  ratings_disabled        38745 non-null  bool  \n",
            " 14  video_error_or_removed  38745 non-null  bool  \n",
            " 15  description             38137 non-null  object\n",
            "dtypes: bool(3), int64(5), object(8)\n",
            "memory usage: 4.0+ MB\n"
          ]
        }
      ]
    },
    {
      "cell_type": "markdown",
      "metadata": {
        "id": "mSc2U7HJ0TGk"
      },
      "source": [
        "## How many VDO's that contain at least one record (row) of \"dislikes\" more than \"likes\"?  <font color=red>DO NOT group by the data and make sure that you count only unique title!</font>"
      ]
    },
    {
      "cell_type": "code",
      "execution_count": 367,
      "metadata": {
        "id": "Q0NF1dI40TGk"
      },
      "outputs": [],
      "source": [
        "count_more_dislikes = GBvideos_clean[GBvideos_clean['dislikes'] > GBvideos_clean['likes']]\n",
        "unique_title_count = count_more_dislikes['title'].nunique()"
      ]
    },
    {
      "cell_type": "code",
      "source": [
        "unique_title_count"
      ],
      "metadata": {
        "id": "N2KQEusJfVKr",
        "outputId": "a0f29515-8d41-40b3-8b33-28f192e7df43",
        "colab": {
          "base_uri": "https://localhost:8080/"
        }
      },
      "execution_count": 368,
      "outputs": [
        {
          "output_type": "execute_result",
          "data": {
            "text/plain": [
              "56"
            ]
          },
          "metadata": {},
          "execution_count": 368
        }
      ]
    },
    {
      "cell_type": "markdown",
      "metadata": {
        "id": "oNxh-5CL0TGk"
      },
      "source": [
        "## How many VDO that are trending on 22 Jan 2018 with comments more than 10,000 comments?"
      ]
    },
    {
      "cell_type": "code",
      "execution_count": 369,
      "metadata": {
        "id": "07-y5sNw0TGl"
      },
      "outputs": [],
      "source": [
        "select_date = pd.to_datetime('22/01/2018', format='%d/%m/%Y')\n",
        "select_date = select_date.strftime('%Y-%m-%d')\n",
        "\n",
        "GBvideos_clean['trending_date'] = pd.to_datetime(GBvideos_clean['trending_date'], format='%y.%d.%m')\n",
        "trending_on_select_date = GBvideos_clean[ (GBvideos_clean['trending_date'] == select_date) & (GBvideos_clean['comment_count'] > 10000) ]"
      ]
    },
    {
      "cell_type": "code",
      "source": [
        "trending_on_select_date.info()"
      ],
      "metadata": {
        "id": "O5Ze_JlHm2Fl",
        "outputId": "79bf66f2-38b9-481d-b46f-cd82cfb2893b",
        "colab": {
          "base_uri": "https://localhost:8080/"
        }
      },
      "execution_count": 370,
      "outputs": [
        {
          "output_type": "stream",
          "name": "stdout",
          "text": [
            "<class 'pandas.core.frame.DataFrame'>\n",
            "Int64Index: 28 entries, 13392 to 13578\n",
            "Data columns (total 16 columns):\n",
            " #   Column                  Non-Null Count  Dtype         \n",
            "---  ------                  --------------  -----         \n",
            " 0   video_id                28 non-null     object        \n",
            " 1   trending_date           28 non-null     datetime64[ns]\n",
            " 2   title                   28 non-null     object        \n",
            " 3   channel_title           28 non-null     object        \n",
            " 4   category_id             28 non-null     int64         \n",
            " 5   publish_time            28 non-null     object        \n",
            " 6   tags                    28 non-null     object        \n",
            " 7   views                   28 non-null     int64         \n",
            " 8   likes                   28 non-null     int64         \n",
            " 9   dislikes                28 non-null     int64         \n",
            " 10  comment_count           28 non-null     int64         \n",
            " 11  thumbnail_link          28 non-null     object        \n",
            " 12  comments_disabled       28 non-null     bool          \n",
            " 13  ratings_disabled        28 non-null     bool          \n",
            " 14  video_error_or_removed  28 non-null     bool          \n",
            " 15  description             28 non-null     object        \n",
            "dtypes: bool(3), datetime64[ns](1), int64(5), object(7)\n",
            "memory usage: 3.1+ KB\n"
          ]
        }
      ]
    },
    {
      "cell_type": "markdown",
      "metadata": {
        "id": "jnBQwfD70TGl"
      },
      "source": [
        "## Which date that has the minimum average number of comments per VDO?"
      ]
    },
    {
      "cell_type": "code",
      "execution_count": 371,
      "metadata": {
        "id": "KIDZyavc0TGl"
      },
      "outputs": [],
      "source": [
        "unique_dates = GBvideos_clean['trending_date'].unique()\n",
        "avg_comments = np.zeros(len(unique_dates))\n",
        "\n",
        "for i, date in enumerate(unique_dates):\n",
        "    date_df = GBvideos_clean[GBvideos_clean['trending_date'] == date].copy()\n",
        "    avg_comments[i] = date_df['comment_count'].mean()\n",
        "min_comments = unique_dates[np.argmin(avg_comments)]\n",
        "min_comments = pd.to_datetime(min_comments, format='%y.%d.%m')\n",
        "min_comments = min_comments.strftime('%y.%d.%m')"
      ]
    },
    {
      "cell_type": "code",
      "source": [
        "min_comments"
      ],
      "metadata": {
        "id": "iM21pQRfslbU",
        "outputId": "eda8d28b-b319-44ab-8706-af533652611e",
        "colab": {
          "base_uri": "https://localhost:8080/",
          "height": 36
        }
      },
      "execution_count": 372,
      "outputs": [
        {
          "output_type": "execute_result",
          "data": {
            "text/plain": [
              "'17.15.11'"
            ],
            "application/vnd.google.colaboratory.intrinsic+json": {
              "type": "string"
            }
          },
          "metadata": {},
          "execution_count": 372
        }
      ]
    },
    {
      "cell_type": "markdown",
      "metadata": {
        "id": "wL7iTiic0TGl"
      },
      "source": [
        "## Compare \"Sports\" and \"Comady\", how many days that there are more total daily views of VDO in \"Sports\" category than in \"Comady\" category?"
      ]
    },
    {
      "cell_type": "code",
      "source": [
        "categories_dict = {}\n",
        "\n",
        "for item in GBcategory['items']:\n",
        "    category_id = item['id']\n",
        "    category_title = item['snippet']['title']\n",
        "    categories_dict[int(category_id)] = category_title"
      ],
      "metadata": {
        "id": "GSTO0PChuqvj"
      },
      "execution_count": 373,
      "outputs": []
    },
    {
      "cell_type": "code",
      "execution_count": 374,
      "metadata": {
        "id": "UIzvYqdA0TGm"
      },
      "outputs": [],
      "source": [
        "days = 0\n",
        "for i, date in enumerate(unique_dates):\n",
        "    date_df = GBvideos_clean[GBvideos_clean['trending_date'] == date].copy()\n",
        "    date_df['category_title'] = date_df['category_id'].map(categories_dict)\n",
        "\n",
        "    sport_views = sum(date_df[date_df['category_title'] == 'Sports']['views'])\n",
        "    comedy_views = sum(date_df[date_df['category_title'] == 'Comedy']['views'])\n",
        "    if sport_views>comedy_views:\n",
        "        days += 1"
      ]
    },
    {
      "cell_type": "code",
      "source": [
        "days"
      ],
      "metadata": {
        "id": "7QgYLz5Sxc4k",
        "outputId": "5c5a8bb7-c318-49aa-d713-9c502cc318ac",
        "colab": {
          "base_uri": "https://localhost:8080/"
        }
      },
      "execution_count": 375,
      "outputs": [
        {
          "output_type": "execute_result",
          "data": {
            "text/plain": [
              "49"
            ]
          },
          "metadata": {},
          "execution_count": 375
        }
      ]
    }
  ],
  "metadata": {
    "colab": {
      "provenance": [],
      "include_colab_link": true
    },
    "kernelspec": {
      "display_name": "Python 3 (ipykernel)",
      "language": "python",
      "name": "python3"
    },
    "language_info": {
      "codemirror_mode": {
        "name": "ipython",
        "version": 3
      },
      "file_extension": ".py",
      "mimetype": "text/x-python",
      "name": "python",
      "nbconvert_exporter": "python",
      "pygments_lexer": "ipython3",
      "version": "3.9.13"
    },
    "toc": {
      "base_numbering": 1,
      "nav_menu": {},
      "number_sections": true,
      "sideBar": true,
      "skip_h1_title": false,
      "title_cell": "Table of Contents",
      "title_sidebar": "Contents",
      "toc_cell": false,
      "toc_position": {},
      "toc_section_display": true,
      "toc_window_display": false
    },
    "varInspector": {
      "cols": {
        "lenName": 16,
        "lenType": 16,
        "lenVar": 40
      },
      "kernels_config": {
        "python": {
          "delete_cmd_postfix": "",
          "delete_cmd_prefix": "del ",
          "library": "var_list.py",
          "varRefreshCmd": "print(var_dic_list())"
        },
        "r": {
          "delete_cmd_postfix": ") ",
          "delete_cmd_prefix": "rm(",
          "library": "var_list.r",
          "varRefreshCmd": "cat(var_dic_list()) "
        }
      },
      "types_to_exclude": [
        "module",
        "function",
        "builtin_function_or_method",
        "instance",
        "_Feature"
      ],
      "window_display": false
    }
  },
  "nbformat": 4,
  "nbformat_minor": 0
}