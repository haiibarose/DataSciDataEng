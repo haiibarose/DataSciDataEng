{
  "nbformat": 4,
  "nbformat_minor": 0,
  "metadata": {
    "colab": {
      "provenance": [],
      "authorship_tag": "ABX9TyNp+uMWNxzcYLy3lMXv3rkX",
      "include_colab_link": true
    },
    "kernelspec": {
      "name": "python3",
      "display_name": "Python 3"
    },
    "language_info": {
      "name": "python"
    }
  },
  "cells": [
    {
      "cell_type": "markdown",
      "metadata": {
        "id": "view-in-github",
        "colab_type": "text"
      },
      "source": [
        "<a href=\"https://colab.research.google.com/github/haiibarose/DataSciDataEng/blob/main/code/Week03_MachineLearning/ClassificationAssignment.ipynb\" target=\"_parent\"><img src=\"https://colab.research.google.com/assets/colab-badge.svg\" alt=\"Open In Colab\"/></a>"
      ]
    },
    {
      "cell_type": "code",
      "execution_count": 310,
      "metadata": {
        "id": "V2NuqtX-CuCg"
      },
      "outputs": [],
      "source": [
        "import pandas as pd\n",
        "import numpy as np"
      ]
    },
    {
      "cell_type": "markdown",
      "source": [
        "### 1. Load \"ModifiedEdibleMushroom.csv\" data from the link below\n",
        "(note: this data set has been preliminarily prepared.).\n",
        "\n",
        "https://github.com/pvateekul/2110446_DSDE_2023s2/blob/main/code/Week03_ML/mushroom2020_dataset.csv"
      ],
      "metadata": {
        "id": "aOY6gZrAGLpM"
      }
    },
    {
      "cell_type": "code",
      "source": [
        "url = 'mushroom2020_dataset.csv'\n",
        "df = pd.read_csv(url)\n",
        "df.head()"
      ],
      "metadata": {
        "colab": {
          "base_uri": "https://localhost:8080/",
          "height": 284
        },
        "id": "ytc3qLKDCztG",
        "outputId": "53508cf7-1451-4e83-9a96-08df39297d79"
      },
      "execution_count": 311,
      "outputs": [
        {
          "output_type": "execute_result",
          "data": {
            "text/plain": [
              "   id label cap-shape cap-surface bruises odor gill-attachment gill-spacing  \\\n",
              "0   1     p         x           s       t    p               f            c   \n",
              "1   2     e         x           s       t    a               f            c   \n",
              "2   3     e         b           s       t    l               f            c   \n",
              "3   4     p         x           y       t    p               f            c   \n",
              "4   5     e         x           s       f    n               f            w   \n",
              "\n",
              "  gill-size stalk-shape  ... ring-number ring-type spore-print-color  \\\n",
              "0         n           e  ...           o         p                 k   \n",
              "1         b           e  ...           o         p                 n   \n",
              "2         b           e  ...           o         p                 n   \n",
              "3         n           e  ...           o         p                 k   \n",
              "4         b           t  ...           o         e                 n   \n",
              "\n",
              "  population habitat cap-color-rate gill-color-rate veil-color-rate  \\\n",
              "0          s       u            1.0             3.0             1.0   \n",
              "1          n       g            2.0             3.0             1.0   \n",
              "2          n       m            3.0             1.0             1.0   \n",
              "3          s       u            3.0             1.0             1.0   \n",
              "4          a       g            4.0             3.0             1.0   \n",
              "\n",
              "  stalk-color-above-ring-rate  stalk-color-below-ring-rate  \n",
              "0                         1.0                          1.0  \n",
              "1                         1.0                          1.0  \n",
              "2                         1.0                          1.0  \n",
              "3                         1.0                          1.0  \n",
              "4                         1.0                          1.0  \n",
              "\n",
              "[5 rows x 24 columns]"
            ],
            "text/html": [
              "\n",
              "  <div id=\"df-7fc0c8e4-ee99-40b7-a633-3464075c4e65\" class=\"colab-df-container\">\n",
              "    <div>\n",
              "<style scoped>\n",
              "    .dataframe tbody tr th:only-of-type {\n",
              "        vertical-align: middle;\n",
              "    }\n",
              "\n",
              "    .dataframe tbody tr th {\n",
              "        vertical-align: top;\n",
              "    }\n",
              "\n",
              "    .dataframe thead th {\n",
              "        text-align: right;\n",
              "    }\n",
              "</style>\n",
              "<table border=\"1\" class=\"dataframe\">\n",
              "  <thead>\n",
              "    <tr style=\"text-align: right;\">\n",
              "      <th></th>\n",
              "      <th>id</th>\n",
              "      <th>label</th>\n",
              "      <th>cap-shape</th>\n",
              "      <th>cap-surface</th>\n",
              "      <th>bruises</th>\n",
              "      <th>odor</th>\n",
              "      <th>gill-attachment</th>\n",
              "      <th>gill-spacing</th>\n",
              "      <th>gill-size</th>\n",
              "      <th>stalk-shape</th>\n",
              "      <th>...</th>\n",
              "      <th>ring-number</th>\n",
              "      <th>ring-type</th>\n",
              "      <th>spore-print-color</th>\n",
              "      <th>population</th>\n",
              "      <th>habitat</th>\n",
              "      <th>cap-color-rate</th>\n",
              "      <th>gill-color-rate</th>\n",
              "      <th>veil-color-rate</th>\n",
              "      <th>stalk-color-above-ring-rate</th>\n",
              "      <th>stalk-color-below-ring-rate</th>\n",
              "    </tr>\n",
              "  </thead>\n",
              "  <tbody>\n",
              "    <tr>\n",
              "      <th>0</th>\n",
              "      <td>1</td>\n",
              "      <td>p</td>\n",
              "      <td>x</td>\n",
              "      <td>s</td>\n",
              "      <td>t</td>\n",
              "      <td>p</td>\n",
              "      <td>f</td>\n",
              "      <td>c</td>\n",
              "      <td>n</td>\n",
              "      <td>e</td>\n",
              "      <td>...</td>\n",
              "      <td>o</td>\n",
              "      <td>p</td>\n",
              "      <td>k</td>\n",
              "      <td>s</td>\n",
              "      <td>u</td>\n",
              "      <td>1.0</td>\n",
              "      <td>3.0</td>\n",
              "      <td>1.0</td>\n",
              "      <td>1.0</td>\n",
              "      <td>1.0</td>\n",
              "    </tr>\n",
              "    <tr>\n",
              "      <th>1</th>\n",
              "      <td>2</td>\n",
              "      <td>e</td>\n",
              "      <td>x</td>\n",
              "      <td>s</td>\n",
              "      <td>t</td>\n",
              "      <td>a</td>\n",
              "      <td>f</td>\n",
              "      <td>c</td>\n",
              "      <td>b</td>\n",
              "      <td>e</td>\n",
              "      <td>...</td>\n",
              "      <td>o</td>\n",
              "      <td>p</td>\n",
              "      <td>n</td>\n",
              "      <td>n</td>\n",
              "      <td>g</td>\n",
              "      <td>2.0</td>\n",
              "      <td>3.0</td>\n",
              "      <td>1.0</td>\n",
              "      <td>1.0</td>\n",
              "      <td>1.0</td>\n",
              "    </tr>\n",
              "    <tr>\n",
              "      <th>2</th>\n",
              "      <td>3</td>\n",
              "      <td>e</td>\n",
              "      <td>b</td>\n",
              "      <td>s</td>\n",
              "      <td>t</td>\n",
              "      <td>l</td>\n",
              "      <td>f</td>\n",
              "      <td>c</td>\n",
              "      <td>b</td>\n",
              "      <td>e</td>\n",
              "      <td>...</td>\n",
              "      <td>o</td>\n",
              "      <td>p</td>\n",
              "      <td>n</td>\n",
              "      <td>n</td>\n",
              "      <td>m</td>\n",
              "      <td>3.0</td>\n",
              "      <td>1.0</td>\n",
              "      <td>1.0</td>\n",
              "      <td>1.0</td>\n",
              "      <td>1.0</td>\n",
              "    </tr>\n",
              "    <tr>\n",
              "      <th>3</th>\n",
              "      <td>4</td>\n",
              "      <td>p</td>\n",
              "      <td>x</td>\n",
              "      <td>y</td>\n",
              "      <td>t</td>\n",
              "      <td>p</td>\n",
              "      <td>f</td>\n",
              "      <td>c</td>\n",
              "      <td>n</td>\n",
              "      <td>e</td>\n",
              "      <td>...</td>\n",
              "      <td>o</td>\n",
              "      <td>p</td>\n",
              "      <td>k</td>\n",
              "      <td>s</td>\n",
              "      <td>u</td>\n",
              "      <td>3.0</td>\n",
              "      <td>1.0</td>\n",
              "      <td>1.0</td>\n",
              "      <td>1.0</td>\n",
              "      <td>1.0</td>\n",
              "    </tr>\n",
              "    <tr>\n",
              "      <th>4</th>\n",
              "      <td>5</td>\n",
              "      <td>e</td>\n",
              "      <td>x</td>\n",
              "      <td>s</td>\n",
              "      <td>f</td>\n",
              "      <td>n</td>\n",
              "      <td>f</td>\n",
              "      <td>w</td>\n",
              "      <td>b</td>\n",
              "      <td>t</td>\n",
              "      <td>...</td>\n",
              "      <td>o</td>\n",
              "      <td>e</td>\n",
              "      <td>n</td>\n",
              "      <td>a</td>\n",
              "      <td>g</td>\n",
              "      <td>4.0</td>\n",
              "      <td>3.0</td>\n",
              "      <td>1.0</td>\n",
              "      <td>1.0</td>\n",
              "      <td>1.0</td>\n",
              "    </tr>\n",
              "  </tbody>\n",
              "</table>\n",
              "<p>5 rows × 24 columns</p>\n",
              "</div>\n",
              "    <div class=\"colab-df-buttons\">\n",
              "\n",
              "  <div class=\"colab-df-container\">\n",
              "    <button class=\"colab-df-convert\" onclick=\"convertToInteractive('df-7fc0c8e4-ee99-40b7-a633-3464075c4e65')\"\n",
              "            title=\"Convert this dataframe to an interactive table.\"\n",
              "            style=\"display:none;\">\n",
              "\n",
              "  <svg xmlns=\"http://www.w3.org/2000/svg\" height=\"24px\" viewBox=\"0 -960 960 960\">\n",
              "    <path d=\"M120-120v-720h720v720H120Zm60-500h600v-160H180v160Zm220 220h160v-160H400v160Zm0 220h160v-160H400v160ZM180-400h160v-160H180v160Zm440 0h160v-160H620v160ZM180-180h160v-160H180v160Zm440 0h160v-160H620v160Z\"/>\n",
              "  </svg>\n",
              "    </button>\n",
              "\n",
              "  <style>\n",
              "    .colab-df-container {\n",
              "      display:flex;\n",
              "      gap: 12px;\n",
              "    }\n",
              "\n",
              "    .colab-df-convert {\n",
              "      background-color: #E8F0FE;\n",
              "      border: none;\n",
              "      border-radius: 50%;\n",
              "      cursor: pointer;\n",
              "      display: none;\n",
              "      fill: #1967D2;\n",
              "      height: 32px;\n",
              "      padding: 0 0 0 0;\n",
              "      width: 32px;\n",
              "    }\n",
              "\n",
              "    .colab-df-convert:hover {\n",
              "      background-color: #E2EBFA;\n",
              "      box-shadow: 0px 1px 2px rgba(60, 64, 67, 0.3), 0px 1px 3px 1px rgba(60, 64, 67, 0.15);\n",
              "      fill: #174EA6;\n",
              "    }\n",
              "\n",
              "    .colab-df-buttons div {\n",
              "      margin-bottom: 4px;\n",
              "    }\n",
              "\n",
              "    [theme=dark] .colab-df-convert {\n",
              "      background-color: #3B4455;\n",
              "      fill: #D2E3FC;\n",
              "    }\n",
              "\n",
              "    [theme=dark] .colab-df-convert:hover {\n",
              "      background-color: #434B5C;\n",
              "      box-shadow: 0px 1px 3px 1px rgba(0, 0, 0, 0.15);\n",
              "      filter: drop-shadow(0px 1px 2px rgba(0, 0, 0, 0.3));\n",
              "      fill: #FFFFFF;\n",
              "    }\n",
              "  </style>\n",
              "\n",
              "    <script>\n",
              "      const buttonEl =\n",
              "        document.querySelector('#df-7fc0c8e4-ee99-40b7-a633-3464075c4e65 button.colab-df-convert');\n",
              "      buttonEl.style.display =\n",
              "        google.colab.kernel.accessAllowed ? 'block' : 'none';\n",
              "\n",
              "      async function convertToInteractive(key) {\n",
              "        const element = document.querySelector('#df-7fc0c8e4-ee99-40b7-a633-3464075c4e65');\n",
              "        const dataTable =\n",
              "          await google.colab.kernel.invokeFunction('convertToInteractive',\n",
              "                                                    [key], {});\n",
              "        if (!dataTable) return;\n",
              "\n",
              "        const docLinkHtml = 'Like what you see? Visit the ' +\n",
              "          '<a target=\"_blank\" href=https://colab.research.google.com/notebooks/data_table.ipynb>data table notebook</a>'\n",
              "          + ' to learn more about interactive tables.';\n",
              "        element.innerHTML = '';\n",
              "        dataTable['output_type'] = 'display_data';\n",
              "        await google.colab.output.renderOutput(dataTable, element);\n",
              "        const docLink = document.createElement('div');\n",
              "        docLink.innerHTML = docLinkHtml;\n",
              "        element.appendChild(docLink);\n",
              "      }\n",
              "    </script>\n",
              "  </div>\n",
              "\n",
              "\n",
              "<div id=\"df-282c8369-d1c1-4a85-8fb2-92f85ac4e0d1\">\n",
              "  <button class=\"colab-df-quickchart\" onclick=\"quickchart('df-282c8369-d1c1-4a85-8fb2-92f85ac4e0d1')\"\n",
              "            title=\"Suggest charts\"\n",
              "            style=\"display:none;\">\n",
              "\n",
              "<svg xmlns=\"http://www.w3.org/2000/svg\" height=\"24px\"viewBox=\"0 0 24 24\"\n",
              "     width=\"24px\">\n",
              "    <g>\n",
              "        <path d=\"M19 3H5c-1.1 0-2 .9-2 2v14c0 1.1.9 2 2 2h14c1.1 0 2-.9 2-2V5c0-1.1-.9-2-2-2zM9 17H7v-7h2v7zm4 0h-2V7h2v10zm4 0h-2v-4h2v4z\"/>\n",
              "    </g>\n",
              "</svg>\n",
              "  </button>\n",
              "\n",
              "<style>\n",
              "  .colab-df-quickchart {\n",
              "      --bg-color: #E8F0FE;\n",
              "      --fill-color: #1967D2;\n",
              "      --hover-bg-color: #E2EBFA;\n",
              "      --hover-fill-color: #174EA6;\n",
              "      --disabled-fill-color: #AAA;\n",
              "      --disabled-bg-color: #DDD;\n",
              "  }\n",
              "\n",
              "  [theme=dark] .colab-df-quickchart {\n",
              "      --bg-color: #3B4455;\n",
              "      --fill-color: #D2E3FC;\n",
              "      --hover-bg-color: #434B5C;\n",
              "      --hover-fill-color: #FFFFFF;\n",
              "      --disabled-bg-color: #3B4455;\n",
              "      --disabled-fill-color: #666;\n",
              "  }\n",
              "\n",
              "  .colab-df-quickchart {\n",
              "    background-color: var(--bg-color);\n",
              "    border: none;\n",
              "    border-radius: 50%;\n",
              "    cursor: pointer;\n",
              "    display: none;\n",
              "    fill: var(--fill-color);\n",
              "    height: 32px;\n",
              "    padding: 0;\n",
              "    width: 32px;\n",
              "  }\n",
              "\n",
              "  .colab-df-quickchart:hover {\n",
              "    background-color: var(--hover-bg-color);\n",
              "    box-shadow: 0 1px 2px rgba(60, 64, 67, 0.3), 0 1px 3px 1px rgba(60, 64, 67, 0.15);\n",
              "    fill: var(--button-hover-fill-color);\n",
              "  }\n",
              "\n",
              "  .colab-df-quickchart-complete:disabled,\n",
              "  .colab-df-quickchart-complete:disabled:hover {\n",
              "    background-color: var(--disabled-bg-color);\n",
              "    fill: var(--disabled-fill-color);\n",
              "    box-shadow: none;\n",
              "  }\n",
              "\n",
              "  .colab-df-spinner {\n",
              "    border: 2px solid var(--fill-color);\n",
              "    border-color: transparent;\n",
              "    border-bottom-color: var(--fill-color);\n",
              "    animation:\n",
              "      spin 1s steps(1) infinite;\n",
              "  }\n",
              "\n",
              "  @keyframes spin {\n",
              "    0% {\n",
              "      border-color: transparent;\n",
              "      border-bottom-color: var(--fill-color);\n",
              "      border-left-color: var(--fill-color);\n",
              "    }\n",
              "    20% {\n",
              "      border-color: transparent;\n",
              "      border-left-color: var(--fill-color);\n",
              "      border-top-color: var(--fill-color);\n",
              "    }\n",
              "    30% {\n",
              "      border-color: transparent;\n",
              "      border-left-color: var(--fill-color);\n",
              "      border-top-color: var(--fill-color);\n",
              "      border-right-color: var(--fill-color);\n",
              "    }\n",
              "    40% {\n",
              "      border-color: transparent;\n",
              "      border-right-color: var(--fill-color);\n",
              "      border-top-color: var(--fill-color);\n",
              "    }\n",
              "    60% {\n",
              "      border-color: transparent;\n",
              "      border-right-color: var(--fill-color);\n",
              "    }\n",
              "    80% {\n",
              "      border-color: transparent;\n",
              "      border-right-color: var(--fill-color);\n",
              "      border-bottom-color: var(--fill-color);\n",
              "    }\n",
              "    90% {\n",
              "      border-color: transparent;\n",
              "      border-bottom-color: var(--fill-color);\n",
              "    }\n",
              "  }\n",
              "</style>\n",
              "\n",
              "  <script>\n",
              "    async function quickchart(key) {\n",
              "      const quickchartButtonEl =\n",
              "        document.querySelector('#' + key + ' button');\n",
              "      quickchartButtonEl.disabled = true;  // To prevent multiple clicks.\n",
              "      quickchartButtonEl.classList.add('colab-df-spinner');\n",
              "      try {\n",
              "        const charts = await google.colab.kernel.invokeFunction(\n",
              "            'suggestCharts', [key], {});\n",
              "      } catch (error) {\n",
              "        console.error('Error during call to suggestCharts:', error);\n",
              "      }\n",
              "      quickchartButtonEl.classList.remove('colab-df-spinner');\n",
              "      quickchartButtonEl.classList.add('colab-df-quickchart-complete');\n",
              "    }\n",
              "    (() => {\n",
              "      let quickchartButtonEl =\n",
              "        document.querySelector('#df-282c8369-d1c1-4a85-8fb2-92f85ac4e0d1 button');\n",
              "      quickchartButtonEl.style.display =\n",
              "        google.colab.kernel.accessAllowed ? 'block' : 'none';\n",
              "    })();\n",
              "  </script>\n",
              "</div>\n",
              "    </div>\n",
              "  </div>\n"
            ]
          },
          "metadata": {},
          "execution_count": 311
        }
      ]
    },
    {
      "cell_type": "code",
      "source": [
        "all_cols = df.columns\n",
        "all_cols"
      ],
      "metadata": {
        "colab": {
          "base_uri": "https://localhost:8080/"
        },
        "id": "BZDIrSKCC_ZJ",
        "outputId": "6e4a0917-38c8-4a98-b2ed-58dbc9875286"
      },
      "execution_count": 312,
      "outputs": [
        {
          "output_type": "execute_result",
          "data": {
            "text/plain": [
              "Index(['id', 'label', 'cap-shape', 'cap-surface', 'bruises', 'odor',\n",
              "       'gill-attachment', 'gill-spacing', 'gill-size', 'stalk-shape',\n",
              "       'stalk-root', 'stalk-surface-above-ring', 'stalk-surface-below-ring',\n",
              "       'veil-type', 'ring-number', 'ring-type', 'spore-print-color',\n",
              "       'population', 'habitat', 'cap-color-rate', 'gill-color-rate',\n",
              "       'veil-color-rate', 'stalk-color-above-ring-rate',\n",
              "       'stalk-color-below-ring-rate'],\n",
              "      dtype='object')"
            ]
          },
          "metadata": {},
          "execution_count": 312
        }
      ]
    },
    {
      "cell_type": "code",
      "source": [
        "df.isnull().sum()"
      ],
      "metadata": {
        "colab": {
          "base_uri": "https://localhost:8080/"
        },
        "id": "wEwoi1kEFu_j",
        "outputId": "cfe1a50d-e214-4cfa-a2ad-82f9ee8ce836"
      },
      "execution_count": 313,
      "outputs": [
        {
          "output_type": "execute_result",
          "data": {
            "text/plain": [
              "id                               0\n",
              "label                           60\n",
              "cap-shape                        0\n",
              "cap-surface                     27\n",
              "bruises                         99\n",
              "odor                            99\n",
              "gill-attachment                 99\n",
              "gill-spacing                   130\n",
              "gill-size                      121\n",
              "stalk-shape                    121\n",
              "stalk-root                      31\n",
              "stalk-surface-above-ring        31\n",
              "stalk-surface-below-ring        31\n",
              "veil-type                       62\n",
              "ring-number                     62\n",
              "ring-type                       62\n",
              "spore-print-color               56\n",
              "population                      56\n",
              "habitat                         31\n",
              "cap-color-rate                  27\n",
              "gill-color-rate                121\n",
              "veil-color-rate                 62\n",
              "stalk-color-above-ring-rate     31\n",
              "stalk-color-below-ring-rate     62\n",
              "dtype: int64"
            ]
          },
          "metadata": {},
          "execution_count": 313
        }
      ]
    },
    {
      "cell_type": "code",
      "source": [
        "df.info()"
      ],
      "metadata": {
        "colab": {
          "base_uri": "https://localhost:8080/"
        },
        "id": "3jNx4snjHRUp",
        "outputId": "cd661d00-5c6d-4956-ed97-9eb84fdb60c9"
      },
      "execution_count": 314,
      "outputs": [
        {
          "output_type": "stream",
          "name": "stdout",
          "text": [
            "<class 'pandas.core.frame.DataFrame'>\n",
            "RangeIndex: 5824 entries, 0 to 5823\n",
            "Data columns (total 24 columns):\n",
            " #   Column                       Non-Null Count  Dtype  \n",
            "---  ------                       --------------  -----  \n",
            " 0   id                           5824 non-null   int64  \n",
            " 1   label                        5764 non-null   object \n",
            " 2   cap-shape                    5824 non-null   object \n",
            " 3   cap-surface                  5797 non-null   object \n",
            " 4   bruises                      5725 non-null   object \n",
            " 5   odor                         5725 non-null   object \n",
            " 6   gill-attachment              5725 non-null   object \n",
            " 7   gill-spacing                 5694 non-null   object \n",
            " 8   gill-size                    5703 non-null   object \n",
            " 9   stalk-shape                  5703 non-null   object \n",
            " 10  stalk-root                   5793 non-null   object \n",
            " 11  stalk-surface-above-ring     5793 non-null   object \n",
            " 12  stalk-surface-below-ring     5793 non-null   object \n",
            " 13  veil-type                    5762 non-null   object \n",
            " 14  ring-number                  5762 non-null   object \n",
            " 15  ring-type                    5762 non-null   object \n",
            " 16  spore-print-color            5768 non-null   object \n",
            " 17  population                   5768 non-null   object \n",
            " 18  habitat                      5793 non-null   object \n",
            " 19  cap-color-rate               5797 non-null   float64\n",
            " 20  gill-color-rate              5703 non-null   float64\n",
            " 21  veil-color-rate              5762 non-null   float64\n",
            " 22  stalk-color-above-ring-rate  5793 non-null   float64\n",
            " 23  stalk-color-below-ring-rate  5762 non-null   float64\n",
            "dtypes: float64(5), int64(1), object(18)\n",
            "memory usage: 1.1+ MB\n"
          ]
        }
      ]
    },
    {
      "cell_type": "markdown",
      "source": [
        "### 2. Drop rows where the target (label) variable is missing."
      ],
      "metadata": {
        "id": "vtlCTbZwGbFh"
      }
    },
    {
      "cell_type": "code",
      "source": [
        "df2 = df.copy()"
      ],
      "metadata": {
        "id": "pRSo99aMF4nG"
      },
      "execution_count": 315,
      "outputs": []
    },
    {
      "cell_type": "code",
      "source": [
        "df2 = df2.dropna(subset='label')\n",
        "df2 = df2.reset_index(drop=True)"
      ],
      "metadata": {
        "id": "kvvvh0_cGkJI"
      },
      "execution_count": 316,
      "outputs": []
    },
    {
      "cell_type": "code",
      "source": [
        "df2.isnull().sum()"
      ],
      "metadata": {
        "colab": {
          "base_uri": "https://localhost:8080/"
        },
        "id": "ihWn-PeKHGnG",
        "outputId": "203b6d00-f579-4d3e-bc00-e955076a5385"
      },
      "execution_count": 317,
      "outputs": [
        {
          "output_type": "execute_result",
          "data": {
            "text/plain": [
              "id                               0\n",
              "label                            0\n",
              "cap-shape                        0\n",
              "cap-surface                     27\n",
              "bruises                         99\n",
              "odor                            99\n",
              "gill-attachment                 99\n",
              "gill-spacing                   130\n",
              "gill-size                      121\n",
              "stalk-shape                    121\n",
              "stalk-root                      31\n",
              "stalk-surface-above-ring        31\n",
              "stalk-surface-below-ring        31\n",
              "veil-type                       62\n",
              "ring-number                     62\n",
              "ring-type                       62\n",
              "spore-print-color               56\n",
              "population                      56\n",
              "habitat                         31\n",
              "cap-color-rate                  27\n",
              "gill-color-rate                121\n",
              "veil-color-rate                 62\n",
              "stalk-color-above-ring-rate     31\n",
              "stalk-color-below-ring-rate     62\n",
              "dtype: int64"
            ]
          },
          "metadata": {},
          "execution_count": 317
        }
      ]
    },
    {
      "cell_type": "code",
      "source": [
        "df2.info()"
      ],
      "metadata": {
        "colab": {
          "base_uri": "https://localhost:8080/"
        },
        "id": "-keitOiUHJR7",
        "outputId": "1bfcd45d-5e8e-44d0-ddba-87feaced7169"
      },
      "execution_count": 318,
      "outputs": [
        {
          "output_type": "stream",
          "name": "stdout",
          "text": [
            "<class 'pandas.core.frame.DataFrame'>\n",
            "RangeIndex: 5764 entries, 0 to 5763\n",
            "Data columns (total 24 columns):\n",
            " #   Column                       Non-Null Count  Dtype  \n",
            "---  ------                       --------------  -----  \n",
            " 0   id                           5764 non-null   int64  \n",
            " 1   label                        5764 non-null   object \n",
            " 2   cap-shape                    5764 non-null   object \n",
            " 3   cap-surface                  5737 non-null   object \n",
            " 4   bruises                      5665 non-null   object \n",
            " 5   odor                         5665 non-null   object \n",
            " 6   gill-attachment              5665 non-null   object \n",
            " 7   gill-spacing                 5634 non-null   object \n",
            " 8   gill-size                    5643 non-null   object \n",
            " 9   stalk-shape                  5643 non-null   object \n",
            " 10  stalk-root                   5733 non-null   object \n",
            " 11  stalk-surface-above-ring     5733 non-null   object \n",
            " 12  stalk-surface-below-ring     5733 non-null   object \n",
            " 13  veil-type                    5702 non-null   object \n",
            " 14  ring-number                  5702 non-null   object \n",
            " 15  ring-type                    5702 non-null   object \n",
            " 16  spore-print-color            5708 non-null   object \n",
            " 17  population                   5708 non-null   object \n",
            " 18  habitat                      5733 non-null   object \n",
            " 19  cap-color-rate               5737 non-null   float64\n",
            " 20  gill-color-rate              5643 non-null   float64\n",
            " 21  veil-color-rate              5702 non-null   float64\n",
            " 22  stalk-color-above-ring-rate  5733 non-null   float64\n",
            " 23  stalk-color-below-ring-rate  5702 non-null   float64\n",
            "dtypes: float64(5), int64(1), object(18)\n",
            "memory usage: 1.1+ MB\n"
          ]
        }
      ]
    },
    {
      "cell_type": "markdown",
      "source": [
        "### 3. Drop the following variables:\n",
        "\n",
        "'id','gill-attachment', 'gill-spacing', 'gill-size','gill-color-rate',\n",
        "'stalk-root', 'stalk-surface-above-ring', 'stalk-surface-below-ring', 'stalk-color-above-ring-rate','stalk-color-below-ring-rate','veil-color-rate','veil-type'"
      ],
      "metadata": {
        "id": "EOkQCyNoHsDu"
      }
    },
    {
      "cell_type": "code",
      "source": [
        "drop_cols = ['id','gill-attachment', 'gill-spacing', 'gill-size','gill-color-rate', 'stalk-root', 'stalk-surface-above-ring', 'stalk-surface-below-ring', 'stalk-color-above-ring-rate','stalk-color-below-ring-rate','veil-color-rate','veil-type']\n",
        "drop_cols"
      ],
      "metadata": {
        "colab": {
          "base_uri": "https://localhost:8080/"
        },
        "id": "FogsArORHrzK",
        "outputId": "74318337-e555-49cb-d894-0ac8eaad354d"
      },
      "execution_count": 319,
      "outputs": [
        {
          "output_type": "execute_result",
          "data": {
            "text/plain": [
              "['id',\n",
              " 'gill-attachment',\n",
              " 'gill-spacing',\n",
              " 'gill-size',\n",
              " 'gill-color-rate',\n",
              " 'stalk-root',\n",
              " 'stalk-surface-above-ring',\n",
              " 'stalk-surface-below-ring',\n",
              " 'stalk-color-above-ring-rate',\n",
              " 'stalk-color-below-ring-rate',\n",
              " 'veil-color-rate',\n",
              " 'veil-type']"
            ]
          },
          "metadata": {},
          "execution_count": 319
        }
      ]
    },
    {
      "cell_type": "code",
      "source": [
        "df2 = df2.drop(columns=drop_cols)"
      ],
      "metadata": {
        "id": "DweOS3ASHyvW"
      },
      "execution_count": 320,
      "outputs": []
    },
    {
      "cell_type": "markdown",
      "source": [
        "### 4. Examine the number of rows, the number of digits, and whether any are missing."
      ],
      "metadata": {
        "id": "JhldDRZQISvw"
      }
    },
    {
      "cell_type": "code",
      "source": [
        "df2.shape"
      ],
      "metadata": {
        "colab": {
          "base_uri": "https://localhost:8080/"
        },
        "id": "vH7AP0bljzDO",
        "outputId": "6b1170f1-da7e-427f-b64b-cfa3257e8cae"
      },
      "execution_count": 321,
      "outputs": [
        {
          "output_type": "execute_result",
          "data": {
            "text/plain": [
              "(5764, 12)"
            ]
          },
          "metadata": {},
          "execution_count": 321
        }
      ]
    },
    {
      "cell_type": "code",
      "source": [
        "df2.info()"
      ],
      "metadata": {
        "colab": {
          "base_uri": "https://localhost:8080/"
        },
        "id": "OtRCkyc7IJHy",
        "outputId": "f4ae7876-a712-4128-a6ed-369aab376db5"
      },
      "execution_count": 322,
      "outputs": [
        {
          "output_type": "stream",
          "name": "stdout",
          "text": [
            "<class 'pandas.core.frame.DataFrame'>\n",
            "RangeIndex: 5764 entries, 0 to 5763\n",
            "Data columns (total 12 columns):\n",
            " #   Column             Non-Null Count  Dtype  \n",
            "---  ------             --------------  -----  \n",
            " 0   label              5764 non-null   object \n",
            " 1   cap-shape          5764 non-null   object \n",
            " 2   cap-surface        5737 non-null   object \n",
            " 3   bruises            5665 non-null   object \n",
            " 4   odor               5665 non-null   object \n",
            " 5   stalk-shape        5643 non-null   object \n",
            " 6   ring-number        5702 non-null   object \n",
            " 7   ring-type          5702 non-null   object \n",
            " 8   spore-print-color  5708 non-null   object \n",
            " 9   population         5708 non-null   object \n",
            " 10  habitat            5733 non-null   object \n",
            " 11  cap-color-rate     5737 non-null   float64\n",
            "dtypes: float64(1), object(11)\n",
            "memory usage: 540.5+ KB\n"
          ]
        }
      ]
    },
    {
      "cell_type": "markdown",
      "source": [
        "### 5. Fill missing values by adding the mean for numeric variables and the mode for nominal variables."
      ],
      "metadata": {
        "id": "mLbVfNMyImp3"
      }
    },
    {
      "cell_type": "code",
      "source": [
        "df2.isnull().sum()"
      ],
      "metadata": {
        "colab": {
          "base_uri": "https://localhost:8080/"
        },
        "id": "OLQVue0lK6gw",
        "outputId": "1a889ead-1b1c-4918-e228-c4e399ac478d"
      },
      "execution_count": 323,
      "outputs": [
        {
          "output_type": "execute_result",
          "data": {
            "text/plain": [
              "label                  0\n",
              "cap-shape              0\n",
              "cap-surface           27\n",
              "bruises               99\n",
              "odor                  99\n",
              "stalk-shape          121\n",
              "ring-number           62\n",
              "ring-type             62\n",
              "spore-print-color     56\n",
              "population            56\n",
              "habitat               31\n",
              "cap-color-rate        27\n",
              "dtype: int64"
            ]
          },
          "metadata": {},
          "execution_count": 323
        }
      ]
    },
    {
      "cell_type": "code",
      "source": [
        "from sklearn.impute import SimpleImputer\n",
        "\n",
        "cat_cols_mode = ['cap-surface', 'bruises', 'odor', 'stalk-shape', 'ring-number', 'ring-type', 'spore-print-color', 'population', 'habitat']\n",
        "filtered_cat = df2[cat_cols_mode]\n",
        "\n",
        "cat_imp = SimpleImputer(missing_values=np.NaN, strategy='most_frequent')\n",
        "\n",
        "df2[cat_cols_mode] = pd.DataFrame(cat_imp.fit_transform(df2[cat_cols_mode]))"
      ],
      "metadata": {
        "id": "S9lIjgPJIoKN"
      },
      "execution_count": 324,
      "outputs": []
    },
    {
      "cell_type": "code",
      "source": [
        "df2.isnull().sum()"
      ],
      "metadata": {
        "colab": {
          "base_uri": "https://localhost:8080/"
        },
        "id": "NuA2LUtlYjhy",
        "outputId": "bd397f04-cb18-4a01-b0f3-cf8dc918d759"
      },
      "execution_count": 325,
      "outputs": [
        {
          "output_type": "execute_result",
          "data": {
            "text/plain": [
              "label                 0\n",
              "cap-shape             0\n",
              "cap-surface           0\n",
              "bruises               0\n",
              "odor                  0\n",
              "stalk-shape           0\n",
              "ring-number           0\n",
              "ring-type             0\n",
              "spore-print-color     0\n",
              "population            0\n",
              "habitat               0\n",
              "cap-color-rate       27\n",
              "dtype: int64"
            ]
          },
          "metadata": {},
          "execution_count": 325
        }
      ]
    },
    {
      "cell_type": "code",
      "source": [
        "num_cols_mean = ['cap-color-rate']\n",
        "filtered_num = df2[num_cols_mean]\n",
        "\n",
        "num_imp = SimpleImputer(missing_values=np.NaN, strategy='mean')\n",
        "\n",
        "df2[num_cols_mean] = pd.DataFrame(num_imp.fit_transform(df2[num_cols_mean]))"
      ],
      "metadata": {
        "id": "HdSKSlXMV0xL"
      },
      "execution_count": 326,
      "outputs": []
    },
    {
      "cell_type": "code",
      "source": [
        "df2.isnull().sum()"
      ],
      "metadata": {
        "colab": {
          "base_uri": "https://localhost:8080/"
        },
        "id": "mvHe8TjLY9Gz",
        "outputId": "ce202ce8-49c7-46d0-ff6b-176298a8aebf"
      },
      "execution_count": 327,
      "outputs": [
        {
          "output_type": "execute_result",
          "data": {
            "text/plain": [
              "label                0\n",
              "cap-shape            0\n",
              "cap-surface          0\n",
              "bruises              0\n",
              "odor                 0\n",
              "stalk-shape          0\n",
              "ring-number          0\n",
              "ring-type            0\n",
              "spore-print-color    0\n",
              "population           0\n",
              "habitat              0\n",
              "cap-color-rate       0\n",
              "dtype: int64"
            ]
          },
          "metadata": {},
          "execution_count": 327
        }
      ]
    },
    {
      "cell_type": "markdown",
      "source": [
        "### 6. Convert the label variable e (edible) to 1 and p (poisonous) to 0 and check the quantity. class0: class1"
      ],
      "metadata": {
        "id": "0EvQAwgmZYoM"
      }
    },
    {
      "cell_type": "code",
      "source": [
        "label_mapping = {'e': 1, 'p': 0}\n",
        "\n",
        "df2['label'] = df2['label'].replace(label_mapping)\n",
        "df2['label'].value_counts()"
      ],
      "metadata": {
        "colab": {
          "base_uri": "https://localhost:8080/"
        },
        "id": "xlj3FUiPZZ_O",
        "outputId": "a5d4ad34-7c3d-4a0b-ec4b-a0fb7aaff6d3"
      },
      "execution_count": 328,
      "outputs": [
        {
          "output_type": "execute_result",
          "data": {
            "text/plain": [
              "0    3660\n",
              "1    2104\n",
              "Name: label, dtype: int64"
            ]
          },
          "metadata": {},
          "execution_count": 328
        }
      ]
    },
    {
      "cell_type": "markdown",
      "source": [
        "### 7. Convert the nominal variable to numeric using a dummy code with drop_first = True.\n",
        "\n"
      ],
      "metadata": {
        "id": "6gOufSgfa0Zw"
      }
    },
    {
      "cell_type": "code",
      "source": [
        "nominal_cols = ['cap-shape', 'cap-surface', 'bruises', 'odor', 'stalk-shape', 'ring-number', 'ring-type', 'spore-print-color', 'population', 'habitat']\n",
        "dummy_df2 = pd.get_dummies(df2[nominal_cols], drop_first=True)\n",
        "\n",
        "df2_with_dummy = pd.concat([df2, dummy_df2], axis=1)\n",
        "df2_with_dummy = df2_with_dummy.drop(nominal_cols, axis=1)\n",
        "df2_with_dummy.shape"
      ],
      "metadata": {
        "colab": {
          "base_uri": "https://localhost:8080/"
        },
        "id": "8qWEeBV7ai5Q",
        "outputId": "6e1f22b3-8ea5-454d-a238-bd6df338eed8"
      },
      "execution_count": 329,
      "outputs": [
        {
          "output_type": "execute_result",
          "data": {
            "text/plain": [
              "(5764, 43)"
            ]
          },
          "metadata": {},
          "execution_count": 329
        }
      ]
    },
    {
      "cell_type": "markdown",
      "source": [
        "### 8. Split train/test with 20% test, stratify, and seed = 2020."
      ],
      "metadata": {
        "id": "TRq6VqMuc2lO"
      }
    },
    {
      "cell_type": "code",
      "source": [
        "from sklearn.model_selection import train_test_split\n",
        "y = df2_with_dummy['label']\n",
        "X = df2_with_dummy.drop(columns=['label'], axis=1)\n",
        "\n",
        "X_train, X_test, y_train, y_test = train_test_split(X, y, stratify=y, test_size=0.2, random_state=2020)"
      ],
      "metadata": {
        "id": "TjADkbUocz-k"
      },
      "execution_count": 330,
      "outputs": []
    },
    {
      "cell_type": "code",
      "source": [
        "y.value_counts()"
      ],
      "metadata": {
        "colab": {
          "base_uri": "https://localhost:8080/"
        },
        "id": "e4ZFFH-oeEWq",
        "outputId": "78c8d185-e109-4d7b-e6e8-26bd411c1c01"
      },
      "execution_count": 331,
      "outputs": [
        {
          "output_type": "execute_result",
          "data": {
            "text/plain": [
              "0    3660\n",
              "1    2104\n",
              "Name: label, dtype: int64"
            ]
          },
          "metadata": {},
          "execution_count": 331
        }
      ]
    },
    {
      "cell_type": "code",
      "source": [
        "y_train.value_counts()"
      ],
      "metadata": {
        "colab": {
          "base_uri": "https://localhost:8080/"
        },
        "id": "6rf8I-pKerH-",
        "outputId": "b2f61068-71d0-4a57-c876-c0a1701d51cf"
      },
      "execution_count": 332,
      "outputs": [
        {
          "output_type": "execute_result",
          "data": {
            "text/plain": [
              "0    2928\n",
              "1    1683\n",
              "Name: label, dtype: int64"
            ]
          },
          "metadata": {},
          "execution_count": 332
        }
      ]
    },
    {
      "cell_type": "code",
      "source": [
        "y_test.value_counts()"
      ],
      "metadata": {
        "colab": {
          "base_uri": "https://localhost:8080/"
        },
        "id": "OwxXN0bAeop6",
        "outputId": "56bd741c-9ee1-4956-a583-0db219af5f4a"
      },
      "execution_count": 333,
      "outputs": [
        {
          "output_type": "execute_result",
          "data": {
            "text/plain": [
              "0    732\n",
              "1    421\n",
              "Name: label, dtype: int64"
            ]
          },
          "metadata": {},
          "execution_count": 333
        }
      ]
    },
    {
      "cell_type": "markdown",
      "source": [
        "### 9. Create a Random Forest with GridSearch on training data with 5 CV.\n",
        "\n",
        "​'criterion':['gini','entropy']\n",
        "\n",
        "'max_depth': [2,3,6]\n",
        "\n",
        "'min_samples_leaf':[2,5,10]\n",
        "\n",
        "'N_estimators':[100,200]\n",
        "\n",
        "'random_state': 2020"
      ],
      "metadata": {
        "id": "bs-zSZZvfG2V"
      }
    },
    {
      "cell_type": "code",
      "source": [
        "from sklearn.ensemble import RandomForestClassifier\n",
        "from sklearn.model_selection import GridSearchCV\n",
        "\n",
        "param_grid = {'criterion' : ['gini', 'entropy'],\n",
        "                'max_depth' : [2, 3, 6],\n",
        "                'min_samples_leaf' : [2, 5, 10],\n",
        "                'n_estimators' : [100, 200]\n",
        "}"
      ],
      "metadata": {
        "id": "FcS8jMPIfIj_"
      },
      "execution_count": 334,
      "outputs": []
    },
    {
      "cell_type": "code",
      "source": [
        "clf = RandomForestClassifier(random_state=2020)"
      ],
      "metadata": {
        "id": "833bpkBKhnXc"
      },
      "execution_count": 335,
      "outputs": []
    },
    {
      "cell_type": "code",
      "source": [
        "grid_search = GridSearchCV(estimator=clf, param_grid=param_grid, cv=5, n_jobs=-1)\n",
        "grid_search.fit(X_train, y_train)\n",
        "\n",
        "best_clf = grid_search.best_estimator_\n",
        "best_params = grid_search.best_params_"
      ],
      "metadata": {
        "id": "yHX3qlodhosU"
      },
      "execution_count": 336,
      "outputs": []
    },
    {
      "cell_type": "code",
      "source": [
        "best_clf"
      ],
      "metadata": {
        "colab": {
          "base_uri": "https://localhost:8080/",
          "height": 74
        },
        "id": "yAz2CPQSkOgO",
        "outputId": "d19a1e0a-7d9b-460b-eee2-5bd690d99c9c"
      },
      "execution_count": 337,
      "outputs": [
        {
          "output_type": "execute_result",
          "data": {
            "text/plain": [
              "RandomForestClassifier(max_depth=6, min_samples_leaf=2, random_state=2020)"
            ],
            "text/html": [
              "<style>#sk-container-id-2 {color: black;background-color: white;}#sk-container-id-2 pre{padding: 0;}#sk-container-id-2 div.sk-toggleable {background-color: white;}#sk-container-id-2 label.sk-toggleable__label {cursor: pointer;display: block;width: 100%;margin-bottom: 0;padding: 0.3em;box-sizing: border-box;text-align: center;}#sk-container-id-2 label.sk-toggleable__label-arrow:before {content: \"▸\";float: left;margin-right: 0.25em;color: #696969;}#sk-container-id-2 label.sk-toggleable__label-arrow:hover:before {color: black;}#sk-container-id-2 div.sk-estimator:hover label.sk-toggleable__label-arrow:before {color: black;}#sk-container-id-2 div.sk-toggleable__content {max-height: 0;max-width: 0;overflow: hidden;text-align: left;background-color: #f0f8ff;}#sk-container-id-2 div.sk-toggleable__content pre {margin: 0.2em;color: black;border-radius: 0.25em;background-color: #f0f8ff;}#sk-container-id-2 input.sk-toggleable__control:checked~div.sk-toggleable__content {max-height: 200px;max-width: 100%;overflow: auto;}#sk-container-id-2 input.sk-toggleable__control:checked~label.sk-toggleable__label-arrow:before {content: \"▾\";}#sk-container-id-2 div.sk-estimator input.sk-toggleable__control:checked~label.sk-toggleable__label {background-color: #d4ebff;}#sk-container-id-2 div.sk-label input.sk-toggleable__control:checked~label.sk-toggleable__label {background-color: #d4ebff;}#sk-container-id-2 input.sk-hidden--visually {border: 0;clip: rect(1px 1px 1px 1px);clip: rect(1px, 1px, 1px, 1px);height: 1px;margin: -1px;overflow: hidden;padding: 0;position: absolute;width: 1px;}#sk-container-id-2 div.sk-estimator {font-family: monospace;background-color: #f0f8ff;border: 1px dotted black;border-radius: 0.25em;box-sizing: border-box;margin-bottom: 0.5em;}#sk-container-id-2 div.sk-estimator:hover {background-color: #d4ebff;}#sk-container-id-2 div.sk-parallel-item::after {content: \"\";width: 100%;border-bottom: 1px solid gray;flex-grow: 1;}#sk-container-id-2 div.sk-label:hover label.sk-toggleable__label {background-color: #d4ebff;}#sk-container-id-2 div.sk-serial::before {content: \"\";position: absolute;border-left: 1px solid gray;box-sizing: border-box;top: 0;bottom: 0;left: 50%;z-index: 0;}#sk-container-id-2 div.sk-serial {display: flex;flex-direction: column;align-items: center;background-color: white;padding-right: 0.2em;padding-left: 0.2em;position: relative;}#sk-container-id-2 div.sk-item {position: relative;z-index: 1;}#sk-container-id-2 div.sk-parallel {display: flex;align-items: stretch;justify-content: center;background-color: white;position: relative;}#sk-container-id-2 div.sk-item::before, #sk-container-id-2 div.sk-parallel-item::before {content: \"\";position: absolute;border-left: 1px solid gray;box-sizing: border-box;top: 0;bottom: 0;left: 50%;z-index: -1;}#sk-container-id-2 div.sk-parallel-item {display: flex;flex-direction: column;z-index: 1;position: relative;background-color: white;}#sk-container-id-2 div.sk-parallel-item:first-child::after {align-self: flex-end;width: 50%;}#sk-container-id-2 div.sk-parallel-item:last-child::after {align-self: flex-start;width: 50%;}#sk-container-id-2 div.sk-parallel-item:only-child::after {width: 0;}#sk-container-id-2 div.sk-dashed-wrapped {border: 1px dashed gray;margin: 0 0.4em 0.5em 0.4em;box-sizing: border-box;padding-bottom: 0.4em;background-color: white;}#sk-container-id-2 div.sk-label label {font-family: monospace;font-weight: bold;display: inline-block;line-height: 1.2em;}#sk-container-id-2 div.sk-label-container {text-align: center;}#sk-container-id-2 div.sk-container {/* jupyter's `normalize.less` sets `[hidden] { display: none; }` but bootstrap.min.css set `[hidden] { display: none !important; }` so we also need the `!important` here to be able to override the default hidden behavior on the sphinx rendered scikit-learn.org. See: https://github.com/scikit-learn/scikit-learn/issues/21755 */display: inline-block !important;position: relative;}#sk-container-id-2 div.sk-text-repr-fallback {display: none;}</style><div id=\"sk-container-id-2\" class=\"sk-top-container\"><div class=\"sk-text-repr-fallback\"><pre>RandomForestClassifier(max_depth=6, min_samples_leaf=2, random_state=2020)</pre><b>In a Jupyter environment, please rerun this cell to show the HTML representation or trust the notebook. <br />On GitHub, the HTML representation is unable to render, please try loading this page with nbviewer.org.</b></div><div class=\"sk-container\" hidden><div class=\"sk-item\"><div class=\"sk-estimator sk-toggleable\"><input class=\"sk-toggleable__control sk-hidden--visually\" id=\"sk-estimator-id-2\" type=\"checkbox\" checked><label for=\"sk-estimator-id-2\" class=\"sk-toggleable__label sk-toggleable__label-arrow\">RandomForestClassifier</label><div class=\"sk-toggleable__content\"><pre>RandomForestClassifier(max_depth=6, min_samples_leaf=2, random_state=2020)</pre></div></div></div></div></div>"
            ]
          },
          "metadata": {},
          "execution_count": 337
        }
      ]
    },
    {
      "cell_type": "code",
      "source": [
        "best_params"
      ],
      "metadata": {
        "colab": {
          "base_uri": "https://localhost:8080/"
        },
        "id": "4_-_QSipkPxf",
        "outputId": "92d9363a-69bb-4bed-ba65-ce65a529b022"
      },
      "execution_count": 338,
      "outputs": [
        {
          "output_type": "execute_result",
          "data": {
            "text/plain": [
              "{'criterion': 'gini',\n",
              " 'max_depth': 6,\n",
              " 'min_samples_leaf': 2,\n",
              " 'n_estimators': 100}"
            ]
          },
          "metadata": {},
          "execution_count": 338
        }
      ]
    },
    {
      "cell_type": "markdown",
      "source": [
        "### 10. Predict the testing data set with confusion_matrix and classification_report."
      ],
      "metadata": {
        "id": "Pm4lxbP_ixUr"
      }
    },
    {
      "cell_type": "code",
      "source": [
        "prediction = best_clf.predict(X_test)"
      ],
      "metadata": {
        "id": "8NlyVGQOiyTt"
      },
      "execution_count": 339,
      "outputs": []
    },
    {
      "cell_type": "code",
      "source": [
        "from sklearn.metrics import classification_report,confusion_matrix\n",
        "\n",
        "print(classification_report(y_test, prediction, digits=2))"
      ],
      "metadata": {
        "colab": {
          "base_uri": "https://localhost:8080/"
        },
        "id": "XaVTc-SXjBpW",
        "outputId": "50a23e5a-ac61-4871-a059-cefea95dc25d"
      },
      "execution_count": 344,
      "outputs": [
        {
          "output_type": "stream",
          "name": "stdout",
          "text": [
            "              precision    recall  f1-score   support\n",
            "\n",
            "           0       0.99      1.00      1.00       732\n",
            "           1       1.00      0.99      0.99       421\n",
            "\n",
            "    accuracy                           0.99      1153\n",
            "   macro avg       1.00      0.99      0.99      1153\n",
            "weighted avg       0.99      0.99      0.99      1153\n",
            "\n"
          ]
        }
      ]
    },
    {
      "cell_type": "code",
      "source": [
        "print(confusion_matrix(y_test, prediction, labels=[0, 1]))"
      ],
      "metadata": {
        "colab": {
          "base_uri": "https://localhost:8080/"
        },
        "id": "r982iCcUjI2j",
        "outputId": "64fc9ddf-23c1-47a2-9c3d-a63cfdbd2fd5"
      },
      "execution_count": 345,
      "outputs": [
        {
          "output_type": "stream",
          "name": "stdout",
          "text": [
            "[[731   1]\n",
            " [  5 416]]\n"
          ]
        }
      ]
    }
  ]
}